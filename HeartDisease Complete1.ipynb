{
  "nbformat": 4,
  "nbformat_minor": 0,
  "metadata": {
    "colab": {
      "provenance": []
    },
    "kernelspec": {
      "name": "python3",
      "display_name": "Python 3"
    },
    "language_info": {
      "name": "python"
    }
  },
  "cells": [
    {
      "cell_type": "code",
      "execution_count": 136,
      "metadata": {
        "id": "C0cztIAd4sqS"
      },
      "outputs": [],
      "source": [
        "import pandas as pd\n",
        "import numpy as np\n",
        "import matplotlib.pyplot as plt\n",
        "import seaborn as sns\n",
        "# Metrics for Evaluation of model Accuracy and F1-score\n",
        "from sklearn.metrics  import f1_score,accuracy_score\n",
        "from sklearn.preprocessing import StandardScaler,MinMaxScaler,MaxAbsScaler,RobustScaler\n",
        "from sklearn.neighbors import KNeighborsRegressor\n",
        "from sklearn import preprocessing\n",
        "#Importing scikit-learn library\n",
        "from sklearn.tree import DecisionTreeClassifier\n",
        "from sklearn.linear_model import LogisticRegression\n",
        "from sklearn.feature_selection import RFE\n",
        "from sklearn.metrics import confusion_matrix, classification_report, mean_squared_error\n",
        "# For splitting of data into train and test set\n",
        "from sklearn.model_selection import train_test_split"
      ]
    },
    {
      "cell_type": "code",
      "source": [
        "data = pd.read_csv(\"/content/Heart_Disease.csv\")"
      ],
      "metadata": {
        "id": "BtnBWoaNKwOv"
      },
      "execution_count": 33,
      "outputs": []
    },
    {
      "cell_type": "code",
      "source": [
        "data.rename(columns={'Heart Disease':'HeartOut'}, inplace=True)\n"
      ],
      "metadata": {
        "id": "iKcFk7VOLaDl"
      },
      "execution_count": 35,
      "outputs": []
    },
    {
      "cell_type": "code",
      "source": [
        "data.head(15)"
      ],
      "metadata": {
        "colab": {
          "base_uri": "https://localhost:8080/",
          "height": 520
        },
        "id": "8dGEI1OWpiBK",
        "outputId": "b2f811b7-c3c6-4271-d505-fded65346487"
      },
      "execution_count": 90,
      "outputs": [
        {
          "output_type": "execute_result",
          "data": {
            "text/plain": [
              "    Age  Gender  Chest pain type   BP  Cholesterol  FBS over 120  EKG results  \\\n",
              "0    70       1                4  130          322             0            2   \n",
              "1    67       0                3  115          279             0            2   \n",
              "2    57       1                2  124          261             0            0   \n",
              "3    64       1                4  128          263             0            0   \n",
              "4    74       0                2  120          269             0            2   \n",
              "5    65       1                4  120          177             0            0   \n",
              "6    56       1                3  130          256             1            2   \n",
              "7    59       1                4  110          239             0            2   \n",
              "8    60       1                4  140          293             0            2   \n",
              "9    63       0                4  150          279             0            2   \n",
              "10   59       1                4  135          234             0            0   \n",
              "11   53       1                4  142          226             0            2   \n",
              "12   44       1                3  140          235             0            2   \n",
              "13   61       1                1  134          234             0            0   \n",
              "14   57       1                4  128          303             0            2   \n",
              "\n",
              "    Max HR  Exercise angina  ST depression  Slope of ST  \\\n",
              "0      109                0            2.4            2   \n",
              "1      160                0            1.6            2   \n",
              "2      141                0            0.3            1   \n",
              "3      105                1            0.2            2   \n",
              "4      121                1            0.2            1   \n",
              "5      140                0            0.4            1   \n",
              "6      142                1            0.6            2   \n",
              "7      142                1            1.2            2   \n",
              "8      170                0            1.2            2   \n",
              "9      154                0            4.0            2   \n",
              "10     161                0            0.5            2   \n",
              "11     111                1            0.0            1   \n",
              "12     180                0            0.0            1   \n",
              "13     145                0            2.6            2   \n",
              "14     159                0            0.0            1   \n",
              "\n",
              "    Number of vessels fluro  Thallium  work_type  smoking_status  \n",
              "0                         3         3          3               1  \n",
              "1                         0         7          2               0  \n",
              "2                         0         7          3               0  \n",
              "3                         1         7          3               2  \n",
              "4                         1         3          2               0  \n",
              "5                         0         7          3               1  \n",
              "6                         1         6          3               0  \n",
              "7                         1         7          3               0  \n",
              "8                         2         7          3               0  \n",
              "9                         3         7          3               0  \n",
              "10                        0         7          3               0  \n",
              "11                        0         7          4               2  \n",
              "12                        0         3          3               2  \n",
              "13                        2         3          3               0  \n",
              "14                        1         3          3               0  "
            ],
            "text/html": [
              "\n",
              "  <div id=\"df-5b63f5ad-b2cb-493f-a8b2-63e0829ece7f\">\n",
              "    <div class=\"colab-df-container\">\n",
              "      <div>\n",
              "<style scoped>\n",
              "    .dataframe tbody tr th:only-of-type {\n",
              "        vertical-align: middle;\n",
              "    }\n",
              "\n",
              "    .dataframe tbody tr th {\n",
              "        vertical-align: top;\n",
              "    }\n",
              "\n",
              "    .dataframe thead th {\n",
              "        text-align: right;\n",
              "    }\n",
              "</style>\n",
              "<table border=\"1\" class=\"dataframe\">\n",
              "  <thead>\n",
              "    <tr style=\"text-align: right;\">\n",
              "      <th></th>\n",
              "      <th>Age</th>\n",
              "      <th>Gender</th>\n",
              "      <th>Chest pain type</th>\n",
              "      <th>BP</th>\n",
              "      <th>Cholesterol</th>\n",
              "      <th>FBS over 120</th>\n",
              "      <th>EKG results</th>\n",
              "      <th>Max HR</th>\n",
              "      <th>Exercise angina</th>\n",
              "      <th>ST depression</th>\n",
              "      <th>Slope of ST</th>\n",
              "      <th>Number of vessels fluro</th>\n",
              "      <th>Thallium</th>\n",
              "      <th>work_type</th>\n",
              "      <th>smoking_status</th>\n",
              "    </tr>\n",
              "  </thead>\n",
              "  <tbody>\n",
              "    <tr>\n",
              "      <th>0</th>\n",
              "      <td>70</td>\n",
              "      <td>1</td>\n",
              "      <td>4</td>\n",
              "      <td>130</td>\n",
              "      <td>322</td>\n",
              "      <td>0</td>\n",
              "      <td>2</td>\n",
              "      <td>109</td>\n",
              "      <td>0</td>\n",
              "      <td>2.4</td>\n",
              "      <td>2</td>\n",
              "      <td>3</td>\n",
              "      <td>3</td>\n",
              "      <td>3</td>\n",
              "      <td>1</td>\n",
              "    </tr>\n",
              "    <tr>\n",
              "      <th>1</th>\n",
              "      <td>67</td>\n",
              "      <td>0</td>\n",
              "      <td>3</td>\n",
              "      <td>115</td>\n",
              "      <td>279</td>\n",
              "      <td>0</td>\n",
              "      <td>2</td>\n",
              "      <td>160</td>\n",
              "      <td>0</td>\n",
              "      <td>1.6</td>\n",
              "      <td>2</td>\n",
              "      <td>0</td>\n",
              "      <td>7</td>\n",
              "      <td>2</td>\n",
              "      <td>0</td>\n",
              "    </tr>\n",
              "    <tr>\n",
              "      <th>2</th>\n",
              "      <td>57</td>\n",
              "      <td>1</td>\n",
              "      <td>2</td>\n",
              "      <td>124</td>\n",
              "      <td>261</td>\n",
              "      <td>0</td>\n",
              "      <td>0</td>\n",
              "      <td>141</td>\n",
              "      <td>0</td>\n",
              "      <td>0.3</td>\n",
              "      <td>1</td>\n",
              "      <td>0</td>\n",
              "      <td>7</td>\n",
              "      <td>3</td>\n",
              "      <td>0</td>\n",
              "    </tr>\n",
              "    <tr>\n",
              "      <th>3</th>\n",
              "      <td>64</td>\n",
              "      <td>1</td>\n",
              "      <td>4</td>\n",
              "      <td>128</td>\n",
              "      <td>263</td>\n",
              "      <td>0</td>\n",
              "      <td>0</td>\n",
              "      <td>105</td>\n",
              "      <td>1</td>\n",
              "      <td>0.2</td>\n",
              "      <td>2</td>\n",
              "      <td>1</td>\n",
              "      <td>7</td>\n",
              "      <td>3</td>\n",
              "      <td>2</td>\n",
              "    </tr>\n",
              "    <tr>\n",
              "      <th>4</th>\n",
              "      <td>74</td>\n",
              "      <td>0</td>\n",
              "      <td>2</td>\n",
              "      <td>120</td>\n",
              "      <td>269</td>\n",
              "      <td>0</td>\n",
              "      <td>2</td>\n",
              "      <td>121</td>\n",
              "      <td>1</td>\n",
              "      <td>0.2</td>\n",
              "      <td>1</td>\n",
              "      <td>1</td>\n",
              "      <td>3</td>\n",
              "      <td>2</td>\n",
              "      <td>0</td>\n",
              "    </tr>\n",
              "    <tr>\n",
              "      <th>5</th>\n",
              "      <td>65</td>\n",
              "      <td>1</td>\n",
              "      <td>4</td>\n",
              "      <td>120</td>\n",
              "      <td>177</td>\n",
              "      <td>0</td>\n",
              "      <td>0</td>\n",
              "      <td>140</td>\n",
              "      <td>0</td>\n",
              "      <td>0.4</td>\n",
              "      <td>1</td>\n",
              "      <td>0</td>\n",
              "      <td>7</td>\n",
              "      <td>3</td>\n",
              "      <td>1</td>\n",
              "    </tr>\n",
              "    <tr>\n",
              "      <th>6</th>\n",
              "      <td>56</td>\n",
              "      <td>1</td>\n",
              "      <td>3</td>\n",
              "      <td>130</td>\n",
              "      <td>256</td>\n",
              "      <td>1</td>\n",
              "      <td>2</td>\n",
              "      <td>142</td>\n",
              "      <td>1</td>\n",
              "      <td>0.6</td>\n",
              "      <td>2</td>\n",
              "      <td>1</td>\n",
              "      <td>6</td>\n",
              "      <td>3</td>\n",
              "      <td>0</td>\n",
              "    </tr>\n",
              "    <tr>\n",
              "      <th>7</th>\n",
              "      <td>59</td>\n",
              "      <td>1</td>\n",
              "      <td>4</td>\n",
              "      <td>110</td>\n",
              "      <td>239</td>\n",
              "      <td>0</td>\n",
              "      <td>2</td>\n",
              "      <td>142</td>\n",
              "      <td>1</td>\n",
              "      <td>1.2</td>\n",
              "      <td>2</td>\n",
              "      <td>1</td>\n",
              "      <td>7</td>\n",
              "      <td>3</td>\n",
              "      <td>0</td>\n",
              "    </tr>\n",
              "    <tr>\n",
              "      <th>8</th>\n",
              "      <td>60</td>\n",
              "      <td>1</td>\n",
              "      <td>4</td>\n",
              "      <td>140</td>\n",
              "      <td>293</td>\n",
              "      <td>0</td>\n",
              "      <td>2</td>\n",
              "      <td>170</td>\n",
              "      <td>0</td>\n",
              "      <td>1.2</td>\n",
              "      <td>2</td>\n",
              "      <td>2</td>\n",
              "      <td>7</td>\n",
              "      <td>3</td>\n",
              "      <td>0</td>\n",
              "    </tr>\n",
              "    <tr>\n",
              "      <th>9</th>\n",
              "      <td>63</td>\n",
              "      <td>0</td>\n",
              "      <td>4</td>\n",
              "      <td>150</td>\n",
              "      <td>279</td>\n",
              "      <td>0</td>\n",
              "      <td>2</td>\n",
              "      <td>154</td>\n",
              "      <td>0</td>\n",
              "      <td>4.0</td>\n",
              "      <td>2</td>\n",
              "      <td>3</td>\n",
              "      <td>7</td>\n",
              "      <td>3</td>\n",
              "      <td>0</td>\n",
              "    </tr>\n",
              "    <tr>\n",
              "      <th>10</th>\n",
              "      <td>59</td>\n",
              "      <td>1</td>\n",
              "      <td>4</td>\n",
              "      <td>135</td>\n",
              "      <td>234</td>\n",
              "      <td>0</td>\n",
              "      <td>0</td>\n",
              "      <td>161</td>\n",
              "      <td>0</td>\n",
              "      <td>0.5</td>\n",
              "      <td>2</td>\n",
              "      <td>0</td>\n",
              "      <td>7</td>\n",
              "      <td>3</td>\n",
              "      <td>0</td>\n",
              "    </tr>\n",
              "    <tr>\n",
              "      <th>11</th>\n",
              "      <td>53</td>\n",
              "      <td>1</td>\n",
              "      <td>4</td>\n",
              "      <td>142</td>\n",
              "      <td>226</td>\n",
              "      <td>0</td>\n",
              "      <td>2</td>\n",
              "      <td>111</td>\n",
              "      <td>1</td>\n",
              "      <td>0.0</td>\n",
              "      <td>1</td>\n",
              "      <td>0</td>\n",
              "      <td>7</td>\n",
              "      <td>4</td>\n",
              "      <td>2</td>\n",
              "    </tr>\n",
              "    <tr>\n",
              "      <th>12</th>\n",
              "      <td>44</td>\n",
              "      <td>1</td>\n",
              "      <td>3</td>\n",
              "      <td>140</td>\n",
              "      <td>235</td>\n",
              "      <td>0</td>\n",
              "      <td>2</td>\n",
              "      <td>180</td>\n",
              "      <td>0</td>\n",
              "      <td>0.0</td>\n",
              "      <td>1</td>\n",
              "      <td>0</td>\n",
              "      <td>3</td>\n",
              "      <td>3</td>\n",
              "      <td>2</td>\n",
              "    </tr>\n",
              "    <tr>\n",
              "      <th>13</th>\n",
              "      <td>61</td>\n",
              "      <td>1</td>\n",
              "      <td>1</td>\n",
              "      <td>134</td>\n",
              "      <td>234</td>\n",
              "      <td>0</td>\n",
              "      <td>0</td>\n",
              "      <td>145</td>\n",
              "      <td>0</td>\n",
              "      <td>2.6</td>\n",
              "      <td>2</td>\n",
              "      <td>2</td>\n",
              "      <td>3</td>\n",
              "      <td>3</td>\n",
              "      <td>0</td>\n",
              "    </tr>\n",
              "    <tr>\n",
              "      <th>14</th>\n",
              "      <td>57</td>\n",
              "      <td>1</td>\n",
              "      <td>4</td>\n",
              "      <td>128</td>\n",
              "      <td>303</td>\n",
              "      <td>0</td>\n",
              "      <td>2</td>\n",
              "      <td>159</td>\n",
              "      <td>0</td>\n",
              "      <td>0.0</td>\n",
              "      <td>1</td>\n",
              "      <td>1</td>\n",
              "      <td>3</td>\n",
              "      <td>3</td>\n",
              "      <td>0</td>\n",
              "    </tr>\n",
              "  </tbody>\n",
              "</table>\n",
              "</div>\n",
              "      <button class=\"colab-df-convert\" onclick=\"convertToInteractive('df-5b63f5ad-b2cb-493f-a8b2-63e0829ece7f')\"\n",
              "              title=\"Convert this dataframe to an interactive table.\"\n",
              "              style=\"display:none;\">\n",
              "        \n",
              "  <svg xmlns=\"http://www.w3.org/2000/svg\" height=\"24px\"viewBox=\"0 0 24 24\"\n",
              "       width=\"24px\">\n",
              "    <path d=\"M0 0h24v24H0V0z\" fill=\"none\"/>\n",
              "    <path d=\"M18.56 5.44l.94 2.06.94-2.06 2.06-.94-2.06-.94-.94-2.06-.94 2.06-2.06.94zm-11 1L8.5 8.5l.94-2.06 2.06-.94-2.06-.94L8.5 2.5l-.94 2.06-2.06.94zm10 10l.94 2.06.94-2.06 2.06-.94-2.06-.94-.94-2.06-.94 2.06-2.06.94z\"/><path d=\"M17.41 7.96l-1.37-1.37c-.4-.4-.92-.59-1.43-.59-.52 0-1.04.2-1.43.59L10.3 9.45l-7.72 7.72c-.78.78-.78 2.05 0 2.83L4 21.41c.39.39.9.59 1.41.59.51 0 1.02-.2 1.41-.59l7.78-7.78 2.81-2.81c.8-.78.8-2.07 0-2.86zM5.41 20L4 18.59l7.72-7.72 1.47 1.35L5.41 20z\"/>\n",
              "  </svg>\n",
              "      </button>\n",
              "      \n",
              "  <style>\n",
              "    .colab-df-container {\n",
              "      display:flex;\n",
              "      flex-wrap:wrap;\n",
              "      gap: 12px;\n",
              "    }\n",
              "\n",
              "    .colab-df-convert {\n",
              "      background-color: #E8F0FE;\n",
              "      border: none;\n",
              "      border-radius: 50%;\n",
              "      cursor: pointer;\n",
              "      display: none;\n",
              "      fill: #1967D2;\n",
              "      height: 32px;\n",
              "      padding: 0 0 0 0;\n",
              "      width: 32px;\n",
              "    }\n",
              "\n",
              "    .colab-df-convert:hover {\n",
              "      background-color: #E2EBFA;\n",
              "      box-shadow: 0px 1px 2px rgba(60, 64, 67, 0.3), 0px 1px 3px 1px rgba(60, 64, 67, 0.15);\n",
              "      fill: #174EA6;\n",
              "    }\n",
              "\n",
              "    [theme=dark] .colab-df-convert {\n",
              "      background-color: #3B4455;\n",
              "      fill: #D2E3FC;\n",
              "    }\n",
              "\n",
              "    [theme=dark] .colab-df-convert:hover {\n",
              "      background-color: #434B5C;\n",
              "      box-shadow: 0px 1px 3px 1px rgba(0, 0, 0, 0.15);\n",
              "      filter: drop-shadow(0px 1px 2px rgba(0, 0, 0, 0.3));\n",
              "      fill: #FFFFFF;\n",
              "    }\n",
              "  </style>\n",
              "\n",
              "      <script>\n",
              "        const buttonEl =\n",
              "          document.querySelector('#df-5b63f5ad-b2cb-493f-a8b2-63e0829ece7f button.colab-df-convert');\n",
              "        buttonEl.style.display =\n",
              "          google.colab.kernel.accessAllowed ? 'block' : 'none';\n",
              "\n",
              "        async function convertToInteractive(key) {\n",
              "          const element = document.querySelector('#df-5b63f5ad-b2cb-493f-a8b2-63e0829ece7f');\n",
              "          const dataTable =\n",
              "            await google.colab.kernel.invokeFunction('convertToInteractive',\n",
              "                                                     [key], {});\n",
              "          if (!dataTable) return;\n",
              "\n",
              "          const docLinkHtml = 'Like what you see? Visit the ' +\n",
              "            '<a target=\"_blank\" href=https://colab.research.google.com/notebooks/data_table.ipynb>data table notebook</a>'\n",
              "            + ' to learn more about interactive tables.';\n",
              "          element.innerHTML = '';\n",
              "          dataTable['output_type'] = 'display_data';\n",
              "          await google.colab.output.renderOutput(dataTable, element);\n",
              "          const docLink = document.createElement('div');\n",
              "          docLink.innerHTML = docLinkHtml;\n",
              "          element.appendChild(docLink);\n",
              "        }\n",
              "      </script>\n",
              "    </div>\n",
              "  </div>\n",
              "  "
            ]
          },
          "metadata": {},
          "execution_count": 90
        }
      ]
    },
    {
      "cell_type": "code",
      "source": [
        "data.info();"
      ],
      "metadata": {
        "colab": {
          "base_uri": "https://localhost:8080/"
        },
        "id": "GAZ34uqm0r19",
        "outputId": "aa8695a7-fdf6-4023-933d-4e98980246a3"
      },
      "execution_count": 71,
      "outputs": [
        {
          "output_type": "stream",
          "name": "stdout",
          "text": [
            "<class 'pandas.core.frame.DataFrame'>\n",
            "RangeIndex: 270 entries, 0 to 269\n",
            "Data columns (total 17 columns):\n",
            " #   Column                   Non-Null Count  Dtype  \n",
            "---  ------                   --------------  -----  \n",
            " 0   id                       270 non-null    int64  \n",
            " 1   Age                      270 non-null    int64  \n",
            " 2   Gender                   270 non-null    int64  \n",
            " 3   Chest pain type          270 non-null    int64  \n",
            " 4   BP                       270 non-null    int64  \n",
            " 5   Cholesterol              270 non-null    int64  \n",
            " 6   FBS over 120             270 non-null    int64  \n",
            " 7   EKG results              270 non-null    int64  \n",
            " 8   Max HR                   270 non-null    int64  \n",
            " 9   Exercise angina          270 non-null    int64  \n",
            " 10  ST depression            270 non-null    float64\n",
            " 11  Slope of ST              270 non-null    int64  \n",
            " 12  Number of vessels fluro  270 non-null    int64  \n",
            " 13  Thallium                 270 non-null    int64  \n",
            " 14  work_type                270 non-null    int64  \n",
            " 15  smoking_status           270 non-null    int64  \n",
            " 16  HeartOut                 270 non-null    object \n",
            "dtypes: float64(1), int64(15), object(1)\n",
            "memory usage: 36.0+ KB\n"
          ]
        }
      ]
    },
    {
      "cell_type": "code",
      "source": [
        "data.describe(include = 'all')"
      ],
      "metadata": {
        "colab": {
          "base_uri": "https://localhost:8080/",
          "height": 493
        },
        "id": "k3GJYiBH5EmF",
        "outputId": "926fa3fc-0551-4cf2-c108-0cfc5b9c9f06"
      },
      "execution_count": null,
      "outputs": [
        {
          "output_type": "execute_result",
          "data": {
            "text/plain": [
              "                id         Age      Gender  Chest pain type          BP  \\\n",
              "count   270.000000  270.000000  270.000000       270.000000  270.000000   \n",
              "unique         NaN         NaN         NaN              NaN         NaN   \n",
              "top            NaN         NaN         NaN              NaN         NaN   \n",
              "freq           NaN         NaN         NaN              NaN         NaN   \n",
              "mean    135.500000   54.414815    0.685185         3.322222  129.737037   \n",
              "std      78.086491    9.080708    0.465305         0.729023   14.889722   \n",
              "min       1.000000   29.000000    0.000000         2.000000   94.000000   \n",
              "25%      68.250000   48.000000    0.000000         3.000000  120.000000   \n",
              "50%     135.500000   54.500000    1.000000         3.000000  130.000000   \n",
              "75%     202.750000   61.000000    1.000000         4.000000  140.000000   \n",
              "max     270.000000   77.000000    1.000000         4.000000  165.000000   \n",
              "\n",
              "        Cholesterol  FBS over 120  EKG results      Max HR  Exercise angina  \\\n",
              "count    270.000000    270.000000   270.000000  270.000000       270.000000   \n",
              "unique          NaN           NaN          NaN         NaN              NaN   \n",
              "top             NaN           NaN          NaN         NaN              NaN   \n",
              "freq            NaN           NaN          NaN         NaN              NaN   \n",
              "mean     246.711111      0.148148     1.022222  149.907407         0.329630   \n",
              "std       44.084638      0.355906     0.997891   22.685230         0.470952   \n",
              "min      126.000000      0.000000     0.000000   88.000000         0.000000   \n",
              "25%      213.000000      0.000000     0.000000  133.000000         0.000000   \n",
              "50%      245.000000      0.000000     2.000000  153.500000         0.000000   \n",
              "75%      278.500000      0.000000     2.000000  166.000000         1.000000   \n",
              "max      360.000000      1.000000     2.000000  202.000000         1.000000   \n",
              "\n",
              "        ST depression  Slope of ST  Number of vessels fluro    Thallium  \\\n",
              "count      270.000000   270.000000               270.000000  270.000000   \n",
              "unique            NaN          NaN                      NaN         NaN   \n",
              "top               NaN          NaN                      NaN         NaN   \n",
              "freq              NaN          NaN                      NaN         NaN   \n",
              "mean         0.998889     1.585185                 0.529630    4.696296   \n",
              "std          1.031528     0.614390                 0.703848    1.940659   \n",
              "min          0.000000     1.000000                 0.000000    3.000000   \n",
              "25%          0.000000     1.000000                 0.000000    3.000000   \n",
              "50%          0.800000     2.000000                 0.000000    3.000000   \n",
              "75%          1.600000     2.000000                 1.000000    7.000000   \n",
              "max          4.000000     3.000000                 2.000000    7.000000   \n",
              "\n",
              "       work_type smoking_status Heart Disease  \n",
              "count        261            264           270  \n",
              "unique         5              4             2  \n",
              "top      Private   never smoked            No  \n",
              "freq         159             96           150  \n",
              "mean         NaN            NaN           NaN  \n",
              "std          NaN            NaN           NaN  \n",
              "min          NaN            NaN           NaN  \n",
              "25%          NaN            NaN           NaN  \n",
              "50%          NaN            NaN           NaN  \n",
              "75%          NaN            NaN           NaN  \n",
              "max          NaN            NaN           NaN  "
            ],
            "text/html": [
              "\n",
              "  <div id=\"df-a4c56013-08e3-48ef-a9cb-3c8428521238\">\n",
              "    <div class=\"colab-df-container\">\n",
              "      <div>\n",
              "<style scoped>\n",
              "    .dataframe tbody tr th:only-of-type {\n",
              "        vertical-align: middle;\n",
              "    }\n",
              "\n",
              "    .dataframe tbody tr th {\n",
              "        vertical-align: top;\n",
              "    }\n",
              "\n",
              "    .dataframe thead th {\n",
              "        text-align: right;\n",
              "    }\n",
              "</style>\n",
              "<table border=\"1\" class=\"dataframe\">\n",
              "  <thead>\n",
              "    <tr style=\"text-align: right;\">\n",
              "      <th></th>\n",
              "      <th>id</th>\n",
              "      <th>Age</th>\n",
              "      <th>Gender</th>\n",
              "      <th>Chest pain type</th>\n",
              "      <th>BP</th>\n",
              "      <th>Cholesterol</th>\n",
              "      <th>FBS over 120</th>\n",
              "      <th>EKG results</th>\n",
              "      <th>Max HR</th>\n",
              "      <th>Exercise angina</th>\n",
              "      <th>ST depression</th>\n",
              "      <th>Slope of ST</th>\n",
              "      <th>Number of vessels fluro</th>\n",
              "      <th>Thallium</th>\n",
              "      <th>work_type</th>\n",
              "      <th>smoking_status</th>\n",
              "      <th>Heart Disease</th>\n",
              "    </tr>\n",
              "  </thead>\n",
              "  <tbody>\n",
              "    <tr>\n",
              "      <th>count</th>\n",
              "      <td>270.000000</td>\n",
              "      <td>270.000000</td>\n",
              "      <td>270.000000</td>\n",
              "      <td>270.000000</td>\n",
              "      <td>270.000000</td>\n",
              "      <td>270.000000</td>\n",
              "      <td>270.000000</td>\n",
              "      <td>270.000000</td>\n",
              "      <td>270.000000</td>\n",
              "      <td>270.000000</td>\n",
              "      <td>270.000000</td>\n",
              "      <td>270.000000</td>\n",
              "      <td>270.000000</td>\n",
              "      <td>270.000000</td>\n",
              "      <td>261</td>\n",
              "      <td>264</td>\n",
              "      <td>270</td>\n",
              "    </tr>\n",
              "    <tr>\n",
              "      <th>unique</th>\n",
              "      <td>NaN</td>\n",
              "      <td>NaN</td>\n",
              "      <td>NaN</td>\n",
              "      <td>NaN</td>\n",
              "      <td>NaN</td>\n",
              "      <td>NaN</td>\n",
              "      <td>NaN</td>\n",
              "      <td>NaN</td>\n",
              "      <td>NaN</td>\n",
              "      <td>NaN</td>\n",
              "      <td>NaN</td>\n",
              "      <td>NaN</td>\n",
              "      <td>NaN</td>\n",
              "      <td>NaN</td>\n",
              "      <td>5</td>\n",
              "      <td>4</td>\n",
              "      <td>2</td>\n",
              "    </tr>\n",
              "    <tr>\n",
              "      <th>top</th>\n",
              "      <td>NaN</td>\n",
              "      <td>NaN</td>\n",
              "      <td>NaN</td>\n",
              "      <td>NaN</td>\n",
              "      <td>NaN</td>\n",
              "      <td>NaN</td>\n",
              "      <td>NaN</td>\n",
              "      <td>NaN</td>\n",
              "      <td>NaN</td>\n",
              "      <td>NaN</td>\n",
              "      <td>NaN</td>\n",
              "      <td>NaN</td>\n",
              "      <td>NaN</td>\n",
              "      <td>NaN</td>\n",
              "      <td>Private</td>\n",
              "      <td>never smoked</td>\n",
              "      <td>No</td>\n",
              "    </tr>\n",
              "    <tr>\n",
              "      <th>freq</th>\n",
              "      <td>NaN</td>\n",
              "      <td>NaN</td>\n",
              "      <td>NaN</td>\n",
              "      <td>NaN</td>\n",
              "      <td>NaN</td>\n",
              "      <td>NaN</td>\n",
              "      <td>NaN</td>\n",
              "      <td>NaN</td>\n",
              "      <td>NaN</td>\n",
              "      <td>NaN</td>\n",
              "      <td>NaN</td>\n",
              "      <td>NaN</td>\n",
              "      <td>NaN</td>\n",
              "      <td>NaN</td>\n",
              "      <td>159</td>\n",
              "      <td>96</td>\n",
              "      <td>150</td>\n",
              "    </tr>\n",
              "    <tr>\n",
              "      <th>mean</th>\n",
              "      <td>135.500000</td>\n",
              "      <td>54.414815</td>\n",
              "      <td>0.685185</td>\n",
              "      <td>3.322222</td>\n",
              "      <td>129.737037</td>\n",
              "      <td>246.711111</td>\n",
              "      <td>0.148148</td>\n",
              "      <td>1.022222</td>\n",
              "      <td>149.907407</td>\n",
              "      <td>0.329630</td>\n",
              "      <td>0.998889</td>\n",
              "      <td>1.585185</td>\n",
              "      <td>0.529630</td>\n",
              "      <td>4.696296</td>\n",
              "      <td>NaN</td>\n",
              "      <td>NaN</td>\n",
              "      <td>NaN</td>\n",
              "    </tr>\n",
              "    <tr>\n",
              "      <th>std</th>\n",
              "      <td>78.086491</td>\n",
              "      <td>9.080708</td>\n",
              "      <td>0.465305</td>\n",
              "      <td>0.729023</td>\n",
              "      <td>14.889722</td>\n",
              "      <td>44.084638</td>\n",
              "      <td>0.355906</td>\n",
              "      <td>0.997891</td>\n",
              "      <td>22.685230</td>\n",
              "      <td>0.470952</td>\n",
              "      <td>1.031528</td>\n",
              "      <td>0.614390</td>\n",
              "      <td>0.703848</td>\n",
              "      <td>1.940659</td>\n",
              "      <td>NaN</td>\n",
              "      <td>NaN</td>\n",
              "      <td>NaN</td>\n",
              "    </tr>\n",
              "    <tr>\n",
              "      <th>min</th>\n",
              "      <td>1.000000</td>\n",
              "      <td>29.000000</td>\n",
              "      <td>0.000000</td>\n",
              "      <td>2.000000</td>\n",
              "      <td>94.000000</td>\n",
              "      <td>126.000000</td>\n",
              "      <td>0.000000</td>\n",
              "      <td>0.000000</td>\n",
              "      <td>88.000000</td>\n",
              "      <td>0.000000</td>\n",
              "      <td>0.000000</td>\n",
              "      <td>1.000000</td>\n",
              "      <td>0.000000</td>\n",
              "      <td>3.000000</td>\n",
              "      <td>NaN</td>\n",
              "      <td>NaN</td>\n",
              "      <td>NaN</td>\n",
              "    </tr>\n",
              "    <tr>\n",
              "      <th>25%</th>\n",
              "      <td>68.250000</td>\n",
              "      <td>48.000000</td>\n",
              "      <td>0.000000</td>\n",
              "      <td>3.000000</td>\n",
              "      <td>120.000000</td>\n",
              "      <td>213.000000</td>\n",
              "      <td>0.000000</td>\n",
              "      <td>0.000000</td>\n",
              "      <td>133.000000</td>\n",
              "      <td>0.000000</td>\n",
              "      <td>0.000000</td>\n",
              "      <td>1.000000</td>\n",
              "      <td>0.000000</td>\n",
              "      <td>3.000000</td>\n",
              "      <td>NaN</td>\n",
              "      <td>NaN</td>\n",
              "      <td>NaN</td>\n",
              "    </tr>\n",
              "    <tr>\n",
              "      <th>50%</th>\n",
              "      <td>135.500000</td>\n",
              "      <td>54.500000</td>\n",
              "      <td>1.000000</td>\n",
              "      <td>3.000000</td>\n",
              "      <td>130.000000</td>\n",
              "      <td>245.000000</td>\n",
              "      <td>0.000000</td>\n",
              "      <td>2.000000</td>\n",
              "      <td>153.500000</td>\n",
              "      <td>0.000000</td>\n",
              "      <td>0.800000</td>\n",
              "      <td>2.000000</td>\n",
              "      <td>0.000000</td>\n",
              "      <td>3.000000</td>\n",
              "      <td>NaN</td>\n",
              "      <td>NaN</td>\n",
              "      <td>NaN</td>\n",
              "    </tr>\n",
              "    <tr>\n",
              "      <th>75%</th>\n",
              "      <td>202.750000</td>\n",
              "      <td>61.000000</td>\n",
              "      <td>1.000000</td>\n",
              "      <td>4.000000</td>\n",
              "      <td>140.000000</td>\n",
              "      <td>278.500000</td>\n",
              "      <td>0.000000</td>\n",
              "      <td>2.000000</td>\n",
              "      <td>166.000000</td>\n",
              "      <td>1.000000</td>\n",
              "      <td>1.600000</td>\n",
              "      <td>2.000000</td>\n",
              "      <td>1.000000</td>\n",
              "      <td>7.000000</td>\n",
              "      <td>NaN</td>\n",
              "      <td>NaN</td>\n",
              "      <td>NaN</td>\n",
              "    </tr>\n",
              "    <tr>\n",
              "      <th>max</th>\n",
              "      <td>270.000000</td>\n",
              "      <td>77.000000</td>\n",
              "      <td>1.000000</td>\n",
              "      <td>4.000000</td>\n",
              "      <td>165.000000</td>\n",
              "      <td>360.000000</td>\n",
              "      <td>1.000000</td>\n",
              "      <td>2.000000</td>\n",
              "      <td>202.000000</td>\n",
              "      <td>1.000000</td>\n",
              "      <td>4.000000</td>\n",
              "      <td>3.000000</td>\n",
              "      <td>2.000000</td>\n",
              "      <td>7.000000</td>\n",
              "      <td>NaN</td>\n",
              "      <td>NaN</td>\n",
              "      <td>NaN</td>\n",
              "    </tr>\n",
              "  </tbody>\n",
              "</table>\n",
              "</div>\n",
              "      <button class=\"colab-df-convert\" onclick=\"convertToInteractive('df-a4c56013-08e3-48ef-a9cb-3c8428521238')\"\n",
              "              title=\"Convert this dataframe to an interactive table.\"\n",
              "              style=\"display:none;\">\n",
              "        \n",
              "  <svg xmlns=\"http://www.w3.org/2000/svg\" height=\"24px\"viewBox=\"0 0 24 24\"\n",
              "       width=\"24px\">\n",
              "    <path d=\"M0 0h24v24H0V0z\" fill=\"none\"/>\n",
              "    <path d=\"M18.56 5.44l.94 2.06.94-2.06 2.06-.94-2.06-.94-.94-2.06-.94 2.06-2.06.94zm-11 1L8.5 8.5l.94-2.06 2.06-.94-2.06-.94L8.5 2.5l-.94 2.06-2.06.94zm10 10l.94 2.06.94-2.06 2.06-.94-2.06-.94-.94-2.06-.94 2.06-2.06.94z\"/><path d=\"M17.41 7.96l-1.37-1.37c-.4-.4-.92-.59-1.43-.59-.52 0-1.04.2-1.43.59L10.3 9.45l-7.72 7.72c-.78.78-.78 2.05 0 2.83L4 21.41c.39.39.9.59 1.41.59.51 0 1.02-.2 1.41-.59l7.78-7.78 2.81-2.81c.8-.78.8-2.07 0-2.86zM5.41 20L4 18.59l7.72-7.72 1.47 1.35L5.41 20z\"/>\n",
              "  </svg>\n",
              "      </button>\n",
              "      \n",
              "  <style>\n",
              "    .colab-df-container {\n",
              "      display:flex;\n",
              "      flex-wrap:wrap;\n",
              "      gap: 12px;\n",
              "    }\n",
              "\n",
              "    .colab-df-convert {\n",
              "      background-color: #E8F0FE;\n",
              "      border: none;\n",
              "      border-radius: 50%;\n",
              "      cursor: pointer;\n",
              "      display: none;\n",
              "      fill: #1967D2;\n",
              "      height: 32px;\n",
              "      padding: 0 0 0 0;\n",
              "      width: 32px;\n",
              "    }\n",
              "\n",
              "    .colab-df-convert:hover {\n",
              "      background-color: #E2EBFA;\n",
              "      box-shadow: 0px 1px 2px rgba(60, 64, 67, 0.3), 0px 1px 3px 1px rgba(60, 64, 67, 0.15);\n",
              "      fill: #174EA6;\n",
              "    }\n",
              "\n",
              "    [theme=dark] .colab-df-convert {\n",
              "      background-color: #3B4455;\n",
              "      fill: #D2E3FC;\n",
              "    }\n",
              "\n",
              "    [theme=dark] .colab-df-convert:hover {\n",
              "      background-color: #434B5C;\n",
              "      box-shadow: 0px 1px 3px 1px rgba(0, 0, 0, 0.15);\n",
              "      filter: drop-shadow(0px 1px 2px rgba(0, 0, 0, 0.3));\n",
              "      fill: #FFFFFF;\n",
              "    }\n",
              "  </style>\n",
              "\n",
              "      <script>\n",
              "        const buttonEl =\n",
              "          document.querySelector('#df-a4c56013-08e3-48ef-a9cb-3c8428521238 button.colab-df-convert');\n",
              "        buttonEl.style.display =\n",
              "          google.colab.kernel.accessAllowed ? 'block' : 'none';\n",
              "\n",
              "        async function convertToInteractive(key) {\n",
              "          const element = document.querySelector('#df-a4c56013-08e3-48ef-a9cb-3c8428521238');\n",
              "          const dataTable =\n",
              "            await google.colab.kernel.invokeFunction('convertToInteractive',\n",
              "                                                     [key], {});\n",
              "          if (!dataTable) return;\n",
              "\n",
              "          const docLinkHtml = 'Like what you see? Visit the ' +\n",
              "            '<a target=\"_blank\" href=https://colab.research.google.com/notebooks/data_table.ipynb>data table notebook</a>'\n",
              "            + ' to learn more about interactive tables.';\n",
              "          element.innerHTML = '';\n",
              "          dataTable['output_type'] = 'display_data';\n",
              "          await google.colab.output.renderOutput(dataTable, element);\n",
              "          const docLink = document.createElement('div');\n",
              "          docLink.innerHTML = docLinkHtml;\n",
              "          element.appendChild(docLink);\n",
              "        }\n",
              "      </script>\n",
              "    </div>\n",
              "  </div>\n",
              "  "
            ]
          },
          "metadata": {},
          "execution_count": 206
        }
      ]
    },
    {
      "cell_type": "code",
      "source": [
        "#no of null values in each column\n",
        "data.isnull().sum()"
      ],
      "metadata": {
        "colab": {
          "base_uri": "https://localhost:8080/"
        },
        "id": "lJWiSBCv5ZCU",
        "outputId": "1b538bb0-146e-4809-ff92-fa3f102e05c3"
      },
      "execution_count": 55,
      "outputs": [
        {
          "output_type": "execute_result",
          "data": {
            "text/plain": [
              "id                         0\n",
              "Age                        0\n",
              "Gender                     0\n",
              "Chest pain type            0\n",
              "BP                         0\n",
              "Cholesterol                0\n",
              "FBS over 120               0\n",
              "EKG results                0\n",
              "Max HR                     0\n",
              "Exercise angina            0\n",
              "ST depression              0\n",
              "Slope of ST                0\n",
              "Number of vessels fluro    0\n",
              "Thallium                   0\n",
              "work_type                  0\n",
              "smoking_status             0\n",
              "HeartOut                   0\n",
              "dtype: int64"
            ]
          },
          "metadata": {},
          "execution_count": 55
        }
      ]
    },
    {
      "cell_type": "code",
      "source": [
        "data.nunique()"
      ],
      "metadata": {
        "colab": {
          "base_uri": "https://localhost:8080/"
        },
        "id": "jdUXmgSk50Ds",
        "outputId": "2a458099-91f0-4f33-f339-3f51e157d609"
      },
      "execution_count": 73,
      "outputs": [
        {
          "output_type": "execute_result",
          "data": {
            "text/plain": [
              "id                         270\n",
              "Age                         41\n",
              "Gender                       2\n",
              "Chest pain type              4\n",
              "BP                          47\n",
              "Cholesterol                144\n",
              "FBS over 120                 2\n",
              "EKG results                  3\n",
              "Max HR                      90\n",
              "Exercise angina              2\n",
              "ST depression               39\n",
              "Slope of ST                  3\n",
              "Number of vessels fluro      4\n",
              "Thallium                     3\n",
              "work_type                    5\n",
              "smoking_status               3\n",
              "HeartOut                     2\n",
              "dtype: int64"
            ]
          },
          "metadata": {},
          "execution_count": 73
        }
      ]
    },
    {
      "cell_type": "code",
      "source": [
        "# determin categorical from numerical data\n",
        "for column in data.columns:\n",
        "    unique_values = len(data[column].unique())\n",
        "    if unique_values < 5:  \n",
        "        print(f\"{column}: Categorical\")\n",
        "    else:\n",
        "        print(f\"{column}: Numerical\")"
      ],
      "metadata": {
        "colab": {
          "base_uri": "https://localhost:8080/"
        },
        "id": "jM4JLiWTSZQK",
        "outputId": "0135961a-ef79-4df2-d5f2-788461e7bc8e"
      },
      "execution_count": 50,
      "outputs": [
        {
          "output_type": "stream",
          "name": "stdout",
          "text": [
            "id: Numerical\n",
            "Age: Numerical\n",
            "Gender: Categorical\n",
            "Chest pain type: Categorical\n",
            "BP: Numerical\n",
            "Cholesterol: Numerical\n",
            "FBS over 120: Categorical\n",
            "EKG results: Categorical\n",
            "Max HR: Numerical\n",
            "Exercise angina: Categorical\n",
            "ST depression: Numerical\n",
            "Slope of ST: Categorical\n",
            "Number of vessels fluro: Categorical\n",
            "Thallium: Categorical\n",
            "work_type: Numerical\n",
            "smoking_status: Numerical\n",
            "HeartOut: Categorical\n"
          ]
        }
      ]
    },
    {
      "cell_type": "code",
      "source": [
        "data['Gender'] = data['Gender'].replace(\"Female\",1)\n",
        "data['Gender'] = data['Gender'].replace(\"Male\",0)"
      ],
      "metadata": {
        "id": "aOMg3kiNSrTN"
      },
      "execution_count": 62,
      "outputs": []
    },
    {
      "cell_type": "code",
      "source": [
        "#change smoking_status\n",
        "data['smoking_status'] = data['smoking_status'].replace(\"Unknown\",0)\n",
        "data['smoking_status'] = data['smoking_status'].replace(\"never smoked\",0)\n",
        "data['smoking_status'] = data['smoking_status'].replace(\"formerly smoked\",1)\n",
        "data['smoking_status'] = data['smoking_status'].replace(\"smokes\",2)"
      ],
      "metadata": {
        "id": "NampL86uZQkC"
      },
      "execution_count": 65,
      "outputs": []
    },
    {
      "cell_type": "code",
      "source": [
        "#change work_type\n",
        "data['work_type'] = data['work_type'].replace(\"Never_worked\",0)\n",
        "data['work_type'] = data['work_type'].replace(\"children\",1)\n",
        "data['work_type'] = data['work_type'].replace(\"Self-employed\",2)\n",
        "data['work_type'] = data['work_type'].replace(\"Private\",3)\n",
        "data['work_type'] = data['work_type'].replace(\"Govt_job\",4)"
      ],
      "metadata": {
        "id": "lTKJY4e4bfH6"
      },
      "execution_count": 70,
      "outputs": []
    },
    {
      "cell_type": "code",
      "source": [
        "#check for duplicated rows\n",
        "sum(data.duplicated('id')) "
      ],
      "metadata": {
        "colab": {
          "base_uri": "https://localhost:8080/"
        },
        "id": "X8SM5K-D9LtV",
        "outputId": "10ee19a4-d9ab-4427-a425-f58f8884b1e5"
      },
      "execution_count": null,
      "outputs": [
        {
          "output_type": "execute_result",
          "data": {
            "text/plain": [
              "0"
            ]
          },
          "metadata": {},
          "execution_count": 7
        }
      ]
    },
    {
      "cell_type": "code",
      "source": [
        "#data = data.drop(['work_type'], axis = 1)"
      ],
      "metadata": {
        "id": "4CGU01Clg0NF"
      },
      "execution_count": null,
      "outputs": []
    },
    {
      "cell_type": "code",
      "source": [
        "#data = data.drop(['smoking_status'], axis = 1)"
      ],
      "metadata": {
        "id": "EzY7cSh4gboz"
      },
      "execution_count": null,
      "outputs": []
    },
    {
      "cell_type": "code",
      "source": [
        "data.dtypes"
      ],
      "metadata": {
        "colab": {
          "base_uri": "https://localhost:8080/"
        },
        "id": "jJ6ikCXs0dRi",
        "outputId": "d7c24c14-6d1b-4cc5-87b0-7e3cf362ecb6"
      },
      "execution_count": 74,
      "outputs": [
        {
          "output_type": "execute_result",
          "data": {
            "text/plain": [
              "id                           int64\n",
              "Age                          int64\n",
              "Gender                       int64\n",
              "Chest pain type              int64\n",
              "BP                           int64\n",
              "Cholesterol                  int64\n",
              "FBS over 120                 int64\n",
              "EKG results                  int64\n",
              "Max HR                       int64\n",
              "Exercise angina              int64\n",
              "ST depression              float64\n",
              "Slope of ST                  int64\n",
              "Number of vessels fluro      int64\n",
              "Thallium                     int64\n",
              "work_type                    int64\n",
              "smoking_status               int64\n",
              "HeartOut                    object\n",
              "dtype: object"
            ]
          },
          "metadata": {},
          "execution_count": 74
        }
      ]
    },
    {
      "cell_type": "code",
      "source": [
        "#replace null values in age with mean\n",
        "data['Age'] = data['Age'].fillna(data['Age'].mean())\n",
        "data['Age'] = data['Age'].astype('int64')"
      ],
      "metadata": {
        "id": "Nntzn5Q66ZG7"
      },
      "execution_count": 43,
      "outputs": []
    },
    {
      "cell_type": "code",
      "source": [
        "#replace null values in work/smoking\n",
        "data['work_type'] = data['work_type'].fillna(\"Private\")\n",
        "data['smoking_status'] = data['smoking_status'].fillna(\"never smoked\")"
      ],
      "metadata": {
        "id": "dkDQEQ28AnXN"
      },
      "execution_count": 54,
      "outputs": []
    },
    {
      "cell_type": "code",
      "source": [
        "#replace null values in Gender with Female as it is the top value\n",
        "data['Gender'] = data['Gender'].fillna(1)\n",
        "data['Gender'] = data['Gender'].astype('int64')"
      ],
      "metadata": {
        "id": "1eD_YEkDhB8x"
      },
      "execution_count": 44,
      "outputs": []
    },
    {
      "cell_type": "code",
      "source": [
        "#detecting the outliers\n",
        "sns.boxplot(data['Chest pain type'])\n",
        "#replace values with min"
      ],
      "metadata": {
        "id": "Vt7DUr4cysxx",
        "colab": {
          "base_uri": "https://localhost:8080/",
          "height": 448
        },
        "outputId": "3df58260-1cf3-437e-a266-610c9b46434b"
      },
      "execution_count": null,
      "outputs": [
        {
          "output_type": "execute_result",
          "data": {
            "text/plain": [
              "<Axes: >"
            ]
          },
          "metadata": {},
          "execution_count": 23
        },
        {
          "output_type": "display_data",
          "data": {
            "text/plain": [
              "<Figure size 640x480 with 1 Axes>"
            ],
            "image/png": "[encoded data removed]"
          },
          "metadata": {}
        }
      ]
    },
    {
      "cell_type": "code",
      "source": [
        "sns.boxplot(data['BP'])\n",
        "#replace values with max"
      ],
      "metadata": {
        "colab": {
          "base_uri": "https://localhost:8080/",
          "height": 448
        },
        "id": "VIE7Y8b0fiK-",
        "outputId": "5d3679ab-1a5f-4ace-ee7b-f8d037d287e2"
      },
      "execution_count": null,
      "outputs": [
        {
          "output_type": "execute_result",
          "data": {
            "text/plain": [
              "<Axes: >"
            ]
          },
          "metadata": {},
          "execution_count": 12
        },
        {
          "output_type": "display_data",
          "data": {
            "text/plain": [
              "<Figure size 640x480 with 1 Axes>"
            ],
            "image/png": "[encoded data removed]"
          },
          "metadata": {}
        }
      ]
    },
    {
      "cell_type": "code",
      "source": [
        "sns.boxplot(data['Cholesterol'])\n",
        "#replace values with max"
      ],
      "metadata": {
        "colab": {
          "base_uri": "https://localhost:8080/",
          "height": 447
        },
        "id": "qipqHki3fiSk",
        "outputId": "1b21f23f-e87c-4d91-c8e3-84dc1f922f26"
      },
      "execution_count": 98,
      "outputs": [
        {
          "output_type": "execute_result",
          "data": {
            "text/plain": [
              "<Axes: >"
            ]
          },
          "metadata": {},
          "execution_count": 98
        },
        {
          "output_type": "display_data",
          "data": {
            "text/plain": [
              "<Figure size 640x480 with 1 Axes>"
            ],
            "image/png": "[encoded data removed]"
          },
          "metadata": {}
        }
      ]
    },
    {
      "cell_type": "code",
      "source": [
        "sns.boxplot(data['Max HR'])\n",
        "#replace values with min"
      ],
      "metadata": {
        "colab": {
          "base_uri": "https://localhost:8080/",
          "height": 460
        },
        "id": "9KdMeIaKfibD",
        "outputId": "6842936e-06d2-415f-ad38-e9f25eac3d71"
      },
      "execution_count": null,
      "outputs": [
        {
          "output_type": "execute_result",
          "data": {
            "text/plain": [
              "<Axes: >"
            ]
          },
          "metadata": {},
          "execution_count": 166
        },
        {
          "output_type": "display_data",
          "data": {
            "text/plain": [
              "<Figure size 640x480 with 1 Axes>"
            ],
            "image/png": "[encoded data removed]"
          },
          "metadata": {}
        }
      ]
    },
    {
      "cell_type": "code",
      "source": [
        "sns.boxplot(data['ST depression'])\n",
        "#replace values with max"
      ],
      "metadata": {
        "colab": {
          "base_uri": "https://localhost:8080/",
          "height": 460
        },
        "id": "FomCbhLEfijD",
        "outputId": "3125bef6-b1ac-4b28-d3d2-d94c9e08f681"
      },
      "execution_count": null,
      "outputs": [
        {
          "output_type": "execute_result",
          "data": {
            "text/plain": [
              "<Axes: >"
            ]
          },
          "metadata": {},
          "execution_count": 167
        },
        {
          "output_type": "display_data",
          "data": {
            "text/plain": [
              "<Figure size 640x480 with 1 Axes>"
            ],
            "image/png": "[encoded data removed]"
          },
          "metadata": {}
        }
      ]
    },
    {
      "cell_type": "code",
      "source": [
        "sns.boxplot(data['Number of vessels fluro'])"
      ],
      "metadata": {
        "colab": {
          "base_uri": "https://localhost:8080/",
          "height": 460
        },
        "id": "oRMQ_OMBfm-L",
        "outputId": "67a0df52-0afa-484c-cdd6-c3a8c7f1e049"
      },
      "execution_count": null,
      "outputs": [
        {
          "output_type": "execute_result",
          "data": {
            "text/plain": [
              "<Axes: >"
            ]
          },
          "metadata": {},
          "execution_count": 169
        },
        {
          "output_type": "display_data",
          "data": {
            "text/plain": [
              "<Figure size 640x480 with 1 Axes>"
            ],
            "image/png": "[encoded data removed]"
          },
          "metadata": {}
        }
      ]
    },
    {
      "cell_type": "code",
      "source": [
        "sns.boxplot(data['FBS over 120'])"
      ],
      "metadata": {
        "colab": {
          "base_uri": "https://localhost:8080/",
          "height": 460
        },
        "id": "pMjlJMaKrLMl",
        "outputId": "d249d470-bdd1-42d8-ee20-010cab9d890d"
      },
      "execution_count": null,
      "outputs": [
        {
          "output_type": "execute_result",
          "data": {
            "text/plain": [
              "<Axes: >"
            ]
          },
          "metadata": {},
          "execution_count": 152
        },
        {
          "output_type": "display_data",
          "data": {
            "text/plain": [
              "<Figure size 640x480 with 1 Axes>"
            ],
            "image/png": "[encoded data removed]"
          },
          "metadata": {}
        }
      ]
    },
    {
      "cell_type": "code",
      "source": [
        "#getting outliers with the iqr method of the BP\n",
        "Q1 = np.percentile(data['BP'], 25, method = 'midpoint')\n",
        "Q3 = np.percentile(data['BP'], 75, method = 'midpoint')\n",
        "IQR = Q3 - Q1\n",
        "upper_boundBP = data['BP'] >= (Q3+1.5*IQR)\n",
        "lower_boundBP = data['BP'] <= (Q1-1.5*IQR)\n",
        "BP_out = np.where(upper_boundBP)[0]\n",
        "data.loc[BP_out, 'BP'] = Q3\n"
      ],
      "metadata": {
        "id": "S6xF9XPLl61u"
      },
      "execution_count": 75,
      "outputs": []
    },
    {
      "cell_type": "code",
      "source": [
        "#outliers of the Cholestrol\n",
        "Q1c = np.percentile(data['Cholesterol'], 25, method = 'midpoint')\n",
        "Q3c = np.percentile(data['Cholesterol'], 75, method = 'midpoint')\n",
        "IQRc = Q3c - Q1c\n",
        "upper_boundc = data['Cholesterol'] >= (Q3c+1.5*IQRc)\n",
        "lower_boundc = data['Cholesterol'] <= (Q1c-1.5*IQRc)\n",
        "Ch_out = np.where(upper_boundc)[0]\n",
        "data.loc[Ch_out, 'Cholesterol'] = Q3c"
      ],
      "metadata": {
        "id": "ve7RjMLAolA9"
      },
      "execution_count": 76,
      "outputs": []
    },
    {
      "cell_type": "code",
      "source": [
        "#outliers of the Max HR\n",
        "Max = data['Max HR']\n",
        "M_out = np.where(Max < 75)[0]\n",
        "q1m = Max.quantile(0.25)\n",
        "data.loc[M_out, 'Max HR'] = q1m"
      ],
      "metadata": {
        "id": "NWL4oiIYplPM"
      },
      "execution_count": 77,
      "outputs": []
    },
    {
      "cell_type": "code",
      "source": [
        "#outliers of the ST depression\n",
        "ST = data['ST depression']\n",
        "ST_out = np.where(ST > 4)[0]\n",
        "q3s = ST.quantile(0.75)\n",
        "data.loc[ST_out, 'ST depression'] = q3s"
      ],
      "metadata": {
        "id": "yBrPXnz8qbM9"
      },
      "execution_count": 78,
      "outputs": []
    },
    {
      "cell_type": "code",
      "source": [
        "# distribution of sex vs age  with target\n",
        "import seaborn as sb\n",
        "fig, axes = plt.subplots(1, 2, figsize=(15, 5), sharey=True)\n",
        "fig.suptitle('Distribution of age vs sex with the target class',fontsize=25)\n",
        "\n",
        "sb.swarmplot(ax=axes[0],y = data['Age'], x = data['Gender'])\n",
        "\n",
        "sb.violinplot(ax=axes[1],x=\"Gender\", y= data['Age'], hue=\"Gender\",\n",
        "                    data=data, palette=\"Set2\", split=True,\n",
        "                    scale=\"count\", inner=\"stick\",\n",
        "                    scale_hue=False, bw=.2)"
      ],
      "metadata": {
        "colab": {
          "base_uri": "https://localhost:8080/",
          "height": 533
        },
        "id": "ihDUyb7g2RNt",
        "outputId": "0738a52a-1359-470d-f86c-e334af321d93"
      },
      "execution_count": null,
      "outputs": [
        {
          "output_type": "execute_result",
          "data": {
            "text/plain": [
              "<Axes: xlabel='Gender', ylabel='Age'>"
            ]
          },
          "metadata": {},
          "execution_count": 26
        },
        {
          "output_type": "display_data",
          "data": {
            "text/plain": [
              "<Figure size 1500x500 with 2 Axes>"
            ],
            "image/png": "[encoded data removed]"
          },
          "metadata": {}
        }
      ]
    },
    {
      "cell_type": "code",
      "source": [
        "# distribution of age  with the disease\n",
        "sb.set_context(\"paper\", font_scale = 2, rc = {\"font.size\": 20,\"axes.titlesize\": 25,\"axes.labelsize\": 20}) \n",
        "fig, ax = plt.subplots(figsize=(15, 6))\n",
        "a = sb.countplot(ax = ax, data = data, x = 'Age', hue = 'HeartOut', order = data['Age'].sort_values().unique())\n",
        "legend_labels, _= a.get_legend_handles_labels()\n",
        "ax.legend(legend_labels, ['Yes {1}','No  {0}'], bbox_to_anchor=(1,1),title=\"Heart Disease\",fancybox=True, framealpha=1, shadow=True, borderpad=1)\n",
        "fig.suptitle('Variation of Age for each target class')\n",
        "plt.show()"
      ],
      "metadata": {
        "colab": {
          "base_uri": "https://localhost:8080/",
          "height": 628
        },
        "id": "UZtx4PvV3ueV",
        "outputId": "e837c989-9f84-48c8-8f3f-0a268e1d1590"
      },
      "execution_count": null,
      "outputs": [
        {
          "output_type": "display_data",
          "data": {
            "text/plain": [
              "<Figure size 1500x600 with 1 Axes>"
            ],
            "image/png": "[encoded data removed]"
          },
          "metadata": {}
        }
      ]
    },
    {
      "cell_type": "code",
      "source": [
        "#ppl with heart disease vs with no heart disease\n",
        "f = sns.countplot(x='HeartOut', data=data)\n",
        "f.set_title(\"Heart disease presence distribution\")\n",
        "f.set_xticklabels(['No Heart disease', 'Heart Disease'])\n",
        "plt.xlabel(\"\");"
      ],
      "metadata": {
        "colab": {
          "base_uri": "https://localhost:8080/",
          "height": 477
        },
        "id": "d00MxvVg454c",
        "outputId": "43b019f2-dc1e-4f57-e8e2-03866d96acb1"
      },
      "execution_count": null,
      "outputs": [
        {
          "output_type": "display_data",
          "data": {
            "text/plain": [
              "<Figure size 640x480 with 1 Axes>"
            ],
            "image/png": "[encoded data removed]"
          },
          "metadata": {}
        }
      ]
    },
    {
      "cell_type": "code",
      "source": [
        "#relation between chest pain type and heart disease\n",
        "f = sns.countplot(x='Chest pain type', data=data, hue='HeartOut')\n",
        "\n",
        "f.set_title('Disease presence by chest pain type')\n",
        "plt.ylabel('count')\n",
        "plt.xlabel('Chest pain type')\n",
        "plt.legend(['No Disease', 'Disease']);"
      ],
      "metadata": {
        "colab": {
          "base_uri": "https://localhost:8080/",
          "height": 511
        },
        "id": "Fr4mZPlyYbhU",
        "outputId": "db465b9e-5f91-4808-be50-c668c1dca403"
      },
      "execution_count": null,
      "outputs": [
        {
          "output_type": "display_data",
          "data": {
            "text/plain": [
              "<Figure size 640x480 with 1 Axes>"
            ],
            "image/png": "[encoded data removed]"
          },
          "metadata": {}
        }
      ]
    },
    {
      "cell_type": "code",
      "source": [
        "#only run to download modified data\n",
        "from google.colab import files\n",
        "data.to_csv(\"Modified_Data.csv\", index=False)\n",
        "files.download(\"Modified_Data.csv\")"
      ],
      "metadata": {
        "colab": {
          "base_uri": "https://localhost:8080/",
          "height": 17
        },
        "id": "TpTrNUVu14FO",
        "outputId": "88f30fc4-9de5-44c6-b218-bbc1a4dc6015"
      },
      "execution_count": 79,
      "outputs": [
        {
          "output_type": "display_data",
          "data": {
            "text/plain": [
              "<IPython.core.display.Javascript object>"
            ],
            "application/javascript": [
              "\n",
              "    async function download(id, filename, size) {\n",
              "      if (!google.colab.kernel.accessAllowed) {\n",
              "        return;\n",
              "      }\n",
              "      const div = document.createElement('div');\n",
              "      const label = document.createElement('label');\n",
              "      label.textContent = `Downloading \"${filename}\": `;\n",
              "      div.appendChild(label);\n",
              "      const progress = document.createElement('progress');\n",
              "      progress.max = size;\n",
              "      div.appendChild(progress);\n",
              "      document.body.appendChild(div);\n",
              "\n",
              "      const buffers = [];\n",
              "      let downloaded = 0;\n",
              "\n",
              "      const channel = await google.colab.kernel.comms.open(id);\n",
              "      // Send a message to notify the kernel that we're ready.\n",
              "      channel.send({})\n",
              "\n",
              "      for await (const message of channel.messages) {\n",
              "        // Send a message to notify the kernel that we're ready.\n",
              "        channel.send({})\n",
              "        if (message.buffers) {\n",
              "          for (const buffer of message.buffers) {\n",
              "            buffers.push(buffer);\n",
              "            downloaded += buffer.byteLength;\n",
              "            progress.value = downloaded;\n",
              "          }\n",
              "        }\n",
              "      }\n",
              "      const blob = new Blob(buffers, {type: 'application/binary'});\n",
              "      const a = document.createElement('a');\n",
              "      a.href = window.URL.createObjectURL(blob);\n",
              "      a.download = filename;\n",
              "      div.appendChild(a);\n",
              "      a.click();\n",
              "      div.remove();\n",
              "    }\n",
              "  "
            ]
          },
          "metadata": {}
        },
        {
          "output_type": "display_data",
          "data": {
            "text/plain": [
              "<IPython.core.display.Javascript object>"
            ],
            "application/javascript": [
              "download(\"download_4cc8dc25-490d-4121-8885-e0275e0071a1\", \"Modified_Data.csv\", 12610)"
            ]
          },
          "metadata": {}
        }
      ]
    },
    {
      "cell_type": "code",
      "source": [
        "#correlation matrix for feature selection\n",
        "matrix = data.corr().round(2)\n",
        "print(matrix)"
      ],
      "metadata": {
        "colab": {
          "base_uri": "https://localhost:8080/"
        },
        "id": "gNK1yHnT2DIr",
        "outputId": "fb1559ad-a428-4405-ab1b-228e12cc1300"
      },
      "execution_count": null,
      "outputs": [
        {
          "output_type": "stream",
          "name": "stdout",
          "text": [
            "                           id   Age  Gender  Chest pain type    BP  \\\n",
            "id                       1.00 -0.04    0.03            -0.04  0.04   \n",
            "Age                     -0.04  1.00   -0.08             0.16  0.27   \n",
            "Gender                   0.03 -0.08    1.00             0.10 -0.04   \n",
            "Chest pain type         -0.04  0.16    0.10             1.00  0.05   \n",
            "BP                       0.04  0.27   -0.04             0.05  1.00   \n",
            "Cholesterol              0.11  0.19   -0.14             0.07  0.16   \n",
            "FBS over 120            -0.01  0.12    0.04            -0.07  0.11   \n",
            "EKG results             -0.04  0.13    0.06             0.15  0.12   \n",
            "Max HR                   0.10 -0.39   -0.08            -0.35 -0.06   \n",
            "Exercise angina         -0.06  0.10    0.17             0.40  0.03   \n",
            "ST depression            0.07  0.20    0.11             0.29  0.17   \n",
            "Slope of ST              0.02  0.15    0.05             0.23  0.10   \n",
            "Number of vessels fluro -0.03  0.35    0.07             0.25  0.04   \n",
            "Thallium                 0.01  0.10    0.38             0.32  0.09   \n",
            "\n",
            "                         Cholesterol  FBS over 120  EKG results  Max HR  \\\n",
            "id                              0.11         -0.01        -0.04    0.10   \n",
            "Age                             0.19          0.12         0.13   -0.39   \n",
            "Gender                         -0.14          0.04         0.06   -0.08   \n",
            "Chest pain type                 0.07         -0.07         0.15   -0.35   \n",
            "BP                              0.16          0.11         0.12   -0.06   \n",
            "Cholesterol                     1.00          0.02         0.13   -0.04   \n",
            "FBS over 120                    0.02          1.00         0.05    0.02   \n",
            "EKG results                     0.13          0.05         1.00   -0.09   \n",
            "Max HR                         -0.04          0.02        -0.09    1.00   \n",
            "Exercise angina                 0.12         -0.00         0.10   -0.40   \n",
            "ST depression                   0.01         -0.01         0.13   -0.35   \n",
            "Slope of ST                    -0.03          0.04         0.16   -0.39   \n",
            "Number of vessels fluro         0.13          0.10         0.08   -0.23   \n",
            "Thallium                       -0.00          0.05         0.01   -0.27   \n",
            "\n",
            "                         Exercise angina  ST depression  Slope of ST  \\\n",
            "id                                 -0.06           0.07         0.02   \n",
            "Age                                 0.10           0.20         0.15   \n",
            "Gender                              0.17           0.11         0.05   \n",
            "Chest pain type                     0.40           0.29         0.23   \n",
            "BP                                  0.03           0.17         0.10   \n",
            "Cholesterol                         0.12           0.01        -0.03   \n",
            "FBS over 120                       -0.00          -0.01         0.04   \n",
            "EKG results                         0.10           0.13         0.16   \n",
            "Max HR                             -0.40          -0.35        -0.39   \n",
            "Exercise angina                     1.00           0.29         0.26   \n",
            "ST depression                       0.29           1.00         0.58   \n",
            "Slope of ST                         0.26           0.58         1.00   \n",
            "Number of vessels fluro             0.19           0.25         0.08   \n",
            "Thallium                            0.32           0.30         0.28   \n",
            "\n",
            "                         Number of vessels fluro  Thallium  \n",
            "id                                         -0.03      0.01  \n",
            "Age                                         0.35      0.10  \n",
            "Gender                                      0.07      0.38  \n",
            "Chest pain type                             0.25      0.32  \n",
            "BP                                          0.04      0.09  \n",
            "Cholesterol                                 0.13     -0.00  \n",
            "FBS over 120                                0.10      0.05  \n",
            "EKG results                                 0.08      0.01  \n",
            "Max HR                                     -0.23     -0.27  \n",
            "Exercise angina                             0.19      0.32  \n",
            "ST depression                               0.25      0.30  \n",
            "Slope of ST                                 0.08      0.28  \n",
            "Number of vessels fluro                     1.00      0.24  \n",
            "Thallium                                    0.24      1.00  \n"
          ]
        },
        {
          "output_type": "stream",
          "name": "stderr",
          "text": [
            "<ipython-input-212-44ac15cdfbe5>:2: FutureWarning: The default value of numeric_only in DataFrame.corr is deprecated. In a future version, it will default to False. Select only valid columns or specify the value of numeric_only to silence this warning.\n",
            "  matrix = data.corr().round(2)\n"
          ]
        }
      ]
    },
    {
      "cell_type": "code",
      "source": [
        "#feature scaling\n",
        "columns_to_scale = ['Age', 'BP', 'Cholesterol', 'Max HR', 'ST depression']\n",
        "#columns to be excluded from scaling\n",
        "columns_to_exclude = ['Chest pain type', 'FBS over 120', 'EKG results', 'Exercise angina', 'Slope of ST', 'Number of vessels fluro', 'Thallium']\n",
        "scaled_data = data.copy()\n",
        "\n",
        "# Using MinMaxScaler\n",
        "scaler = MinMaxScaler()\n",
        "\n",
        "# Apply MinMax scaling to the selected columns\n",
        "scaled_data[columns_to_scale] = scaler.fit_transform(data[columns_to_scale])\n",
        "\n",
        "# Combine the scaled columns with the excluded columns\n",
        "scaled_data = pd.concat([scaled_data[columns_to_exclude], scaled_data[columns_to_scale]], axis=1)"
      ],
      "metadata": {
        "id": "ySJ3hZdCfY7q"
      },
      "execution_count": 139,
      "outputs": []
    },
    {
      "cell_type": "code",
      "source": [
        "#splitting the data\n",
        "y = data.HeartOut\n",
        "data.drop(['HeartOut'], axis=1, inplace=True)"
      ],
      "metadata": {
        "id": "Ijh7samX2DTE"
      },
      "execution_count": null,
      "outputs": []
    },
    {
      "cell_type": "code",
      "source": [
        "X = scaled_data"
      ],
      "metadata": {
        "id": "NolAZUf5gJUi"
      },
      "execution_count": 140,
      "outputs": []
    },
    {
      "cell_type": "code",
      "source": [
        "#drop id as it wont affect our prediction \n",
        "data.drop(['id'], axis=1, inplace=True)"
      ],
      "metadata": {
        "id": "r1KYy5GDeMxi"
      },
      "execution_count": null,
      "outputs": []
    },
    {
      "cell_type": "code",
      "source": [
        "#change categorical values\n",
        "y= y.map({'Yes':1,'No':0})"
      ],
      "metadata": {
        "id": "4WerWXy20N-L"
      },
      "execution_count": 81,
      "outputs": []
    },
    {
      "cell_type": "code",
      "source": [
        "# Now we split the dataset in train and test part\n",
        "X_train, X_test, y_train, y_test = train_test_split(X, y, test_size=0.33, random_state=0)\n"
      ],
      "metadata": {
        "id": "ryHzyn_Eu6TA"
      },
      "execution_count": 142,
      "outputs": []
    },
    {
      "cell_type": "code",
      "source": [
        "print(y)"
      ],
      "metadata": {
        "colab": {
          "base_uri": "https://localhost:8080/"
        },
        "id": "vZatAMa_pYcK",
        "outputId": "de48cc59-aab6-471f-e28a-4a79c3c238ce"
      },
      "execution_count": 143,
      "outputs": [
        {
          "output_type": "stream",
          "name": "stdout",
          "text": [
            "0      1\n",
            "1      0\n",
            "2      1\n",
            "3      0\n",
            "4      0\n",
            "      ..\n",
            "265    0\n",
            "266    0\n",
            "267    0\n",
            "268    0\n",
            "269    1\n",
            "Name: HeartOut, Length: 270, dtype: int64\n"
          ]
        }
      ]
    },
    {
      "cell_type": "code",
      "source": [
        "#trainning the model\n",
        "model  = LogisticRegression()"
      ],
      "metadata": {
        "id": "F31WVIlXyGH9"
      },
      "execution_count": 144,
      "outputs": []
    },
    {
      "cell_type": "code",
      "source": [
        "#building the feature selection method (bonus)\n",
        "rfe = RFE(estimator=model, n_features_to_select=11)\n",
        "rfe.fit(X_train, y_train)\n",
        "X_train_rfe = rfe.transform(X_train)\n",
        "X_test_rfe = rfe.transform(X_test)"
      ],
      "metadata": {
        "id": "KURrGHh3iKnD"
      },
      "execution_count": 145,
      "outputs": []
    },
    {
      "cell_type": "code",
      "source": [
        "#train the model\n",
        "model.fit(X_train_rfe, y_train)"
      ],
      "metadata": {
        "colab": {
          "base_uri": "https://localhost:8080/",
          "height": 75
        },
        "id": "hzW01JpUjOjL",
        "outputId": "cb84b4f7-e880-4b6b-8d92-4154bdf27d6f"
      },
      "execution_count": 146,
      "outputs": [
        {
          "output_type": "execute_result",
          "data": {
            "text/plain": [
              "LogisticRegression()"
            ],
            "text/html": [
              "<style>#sk-container-id-10 {color: black;background-color: white;}#sk-container-id-10 pre{padding: 0;}#sk-container-id-10 div.sk-toggleable {background-color: white;}#sk-container-id-10 label.sk-toggleable__label {cursor: pointer;display: block;width: 100%;margin-bottom: 0;padding: 0.3em;box-sizing: border-box;text-align: center;}#sk-container-id-10 label.sk-toggleable__label-arrow:before {content: \"▸\";float: left;margin-right: 0.25em;color: #696969;}#sk-container-id-10 label.sk-toggleable__label-arrow:hover:before {color: black;}#sk-container-id-10 div.sk-estimator:hover label.sk-toggleable__label-arrow:before {color: black;}#sk-container-id-10 div.sk-toggleable__content {max-height: 0;max-width: 0;overflow: hidden;text-align: left;background-color: #f0f8ff;}#sk-container-id-10 div.sk-toggleable__content pre {margin: 0.2em;color: black;border-radius: 0.25em;background-color: #f0f8ff;}#sk-container-id-10 input.sk-toggleable__control:checked~div.sk-toggleable__content {max-height: 200px;max-width: 100%;overflow: auto;}#sk-container-id-10 input.sk-toggleable__control:checked~label.sk-toggleable__label-arrow:before {content: \"▾\";}#sk-container-id-10 div.sk-estimator input.sk-toggleable__control:checked~label.sk-toggleable__label {background-color: #d4ebff;}#sk-container-id-10 div.sk-label input.sk-toggleable__control:checked~label.sk-toggleable__label {background-color: #d4ebff;}#sk-container-id-10 input.sk-hidden--visually {border: 0;clip: rect(1px 1px 1px 1px);clip: rect(1px, 1px, 1px, 1px);height: 1px;margin: -1px;overflow: hidden;padding: 0;position: absolute;width: 1px;}#sk-container-id-10 div.sk-estimator {font-family: monospace;background-color: #f0f8ff;border: 1px dotted black;border-radius: 0.25em;box-sizing: border-box;margin-bottom: 0.5em;}#sk-container-id-10 div.sk-estimator:hover {background-color: #d4ebff;}#sk-container-id-10 div.sk-parallel-item::after {content: \"\";width: 100%;border-bottom: 1px solid gray;flex-grow: 1;}#sk-container-id-10 div.sk-label:hover label.sk-toggleable__label {background-color: #d4ebff;}#sk-container-id-10 div.sk-serial::before {content: \"\";position: absolute;border-left: 1px solid gray;box-sizing: border-box;top: 0;bottom: 0;left: 50%;z-index: 0;}#sk-container-id-10 div.sk-serial {display: flex;flex-direction: column;align-items: center;background-color: white;padding-right: 0.2em;padding-left: 0.2em;position: relative;}#sk-container-id-10 div.sk-item {position: relative;z-index: 1;}#sk-container-id-10 div.sk-parallel {display: flex;align-items: stretch;justify-content: center;background-color: white;position: relative;}#sk-container-id-10 div.sk-item::before, #sk-container-id-10 div.sk-parallel-item::before {content: \"\";position: absolute;border-left: 1px solid gray;box-sizing: border-box;top: 0;bottom: 0;left: 50%;z-index: -1;}#sk-container-id-10 div.sk-parallel-item {display: flex;flex-direction: column;z-index: 1;position: relative;background-color: white;}#sk-container-id-10 div.sk-parallel-item:first-child::after {align-self: flex-end;width: 50%;}#sk-container-id-10 div.sk-parallel-item:last-child::after {align-self: flex-start;width: 50%;}#sk-container-id-10 div.sk-parallel-item:only-child::after {width: 0;}#sk-container-id-10 div.sk-dashed-wrapped {border: 1px dashed gray;margin: 0 0.4em 0.5em 0.4em;box-sizing: border-box;padding-bottom: 0.4em;background-color: white;}#sk-container-id-10 div.sk-label label {font-family: monospace;font-weight: bold;display: inline-block;line-height: 1.2em;}#sk-container-id-10 div.sk-label-container {text-align: center;}#sk-container-id-10 div.sk-container {/* jupyter's `normalize.less` sets `[hidden] { display: none; }` but bootstrap.min.css set `[hidden] { display: none !important; }` so we also need the `!important` here to be able to override the default hidden behavior on the sphinx rendered scikit-learn.org. See: https://github.com/scikit-learn/scikit-learn/issues/21755 */display: inline-block !important;position: relative;}#sk-container-id-10 div.sk-text-repr-fallback {display: none;}</style><div id=\"sk-container-id-10\" class=\"sk-top-container\"><div class=\"sk-text-repr-fallback\"><pre>LogisticRegression()</pre><b>In a Jupyter environment, please rerun this cell to show the HTML representation or trust the notebook. <br />On GitHub, the HTML representation is unable to render, please try loading this page with nbviewer.org.</b></div><div class=\"sk-container\" hidden><div class=\"sk-item\"><div class=\"sk-estimator sk-toggleable\"><input class=\"sk-toggleable__control sk-hidden--visually\" id=\"sk-estimator-id-10\" type=\"checkbox\" checked><label for=\"sk-estimator-id-10\" class=\"sk-toggleable__label sk-toggleable__label-arrow\">LogisticRegression</label><div class=\"sk-toggleable__content\"><pre>LogisticRegression()</pre></div></div></div></div></div>"
            ]
          },
          "metadata": {},
          "execution_count": 146
        }
      ]
    },
    {
      "cell_type": "code",
      "source": [
        "#predict the output\n",
        "y_pred = model.predict(X_test_rfe)\n"
      ],
      "metadata": {
        "id": "qku7v8b4yg70"
      },
      "execution_count": 147,
      "outputs": []
    },
    {
      "cell_type": "code",
      "source": [
        "#get accuracy\n",
        "accuracy = model.score(X_test_rfe, y_test)\n",
        "print(\"Accuracy:\", accuracy)"
      ],
      "metadata": {
        "colab": {
          "base_uri": "https://localhost:8080/"
        },
        "id": "1cuFEETAywod",
        "outputId": "870ec5aa-ec18-4721-f590-ca48b786daf7"
      },
      "execution_count": 148,
      "outputs": [
        {
          "output_type": "stream",
          "name": "stdout",
          "text": [
            "Accuracy: 0.8111111111111111\n"
          ]
        }
      ]
    },
    {
      "cell_type": "code",
      "source": [
        "#get confusion matrix\n",
        "cm = confusion_matrix(y_test, y_pred)\n",
        "print(\"Confusion Matrix:\")\n",
        "print(cm)"
      ],
      "metadata": {
        "colab": {
          "base_uri": "https://localhost:8080/"
        },
        "id": "Fov1FhATk9Or",
        "outputId": "34621d52-0e10-48f1-d6b3-0f15613f069e"
      },
      "execution_count": 149,
      "outputs": [
        {
          "output_type": "stream",
          "name": "stdout",
          "text": [
            "Confusion Matrix:\n",
            "[[43 10]\n",
            " [ 7 30]]\n"
          ]
        }
      ]
    },
    {
      "cell_type": "code",
      "source": [
        "#get classification report\n",
        "cr = classification_report(y_test, y_pred)\n",
        "print(\"Classification Report:\")\n",
        "print(cr)"
      ],
      "metadata": {
        "colab": {
          "base_uri": "https://localhost:8080/"
        },
        "id": "VCkntaRVlLfU",
        "outputId": "8d257d2a-d052-431f-ada8-fc4f38fff336"
      },
      "execution_count": 150,
      "outputs": [
        {
          "output_type": "stream",
          "name": "stdout",
          "text": [
            "Classification Report:\n",
            "              precision    recall  f1-score   support\n",
            "\n",
            "           0       0.86      0.81      0.83        53\n",
            "           1       0.75      0.81      0.78        37\n",
            "\n",
            "    accuracy                           0.81        90\n",
            "   macro avg       0.80      0.81      0.81        90\n",
            "weighted avg       0.81      0.81      0.81        90\n",
            "\n"
          ]
        }
      ]
    },
    {
      "cell_type": "code",
      "source": [
        "#get the mean squared error\n",
        "mse = mean_squared_error(y_test, y_pred)\n",
        "print(\"Mean Squared Error:\", mse)"
      ],
      "metadata": {
        "colab": {
          "base_uri": "https://localhost:8080/"
        },
        "id": "sVXXyKzZlRha",
        "outputId": "bf22e31a-d421-4e11-a9ff-b69a8c44d174"
      },
      "execution_count": 151,
      "outputs": [
        {
          "output_type": "stream",
          "name": "stdout",
          "text": [
            "Mean Squared Error: 0.18888888888888888\n"
          ]
        }
      ]
    }
  ]
}